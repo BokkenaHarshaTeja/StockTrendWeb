{
 "cells": [
  {
   "cell_type": "code",
   "execution_count": 1,
   "id": "d40961f7-b730-41a3-87af-6a7d378ce7cb",
   "metadata": {},
   "outputs": [],
   "source": [
    "#ignore kind of warnings\n",
    "import warnings\n",
    "warnings.filterwarnings('ignore')"
   ]
  },
  {
   "cell_type": "markdown",
   "id": "8932a907-a801-460e-ac0c-70004aac0bc5",
   "metadata": {},
   "source": [
    "## Data Collection and preprocessing"
   ]
  },
  {
   "cell_type": "code",
   "execution_count": 2,
   "id": "33091b86-611c-4fab-a7fd-e2a6f4b95845",
   "metadata": {},
   "outputs": [],
   "source": [
    "import pandas as pd\n",
    "import math as m"
   ]
  },
  {
   "cell_type": "code",
   "execution_count": 3,
   "id": "27adae7c-2ed0-4625-84c4-697b19cd8466",
   "metadata": {},
   "outputs": [],
   "source": [
    "dataset = pd.read_csv(\"stock_market.csv\")"
   ]
  },
  {
   "cell_type": "code",
   "execution_count": 4,
   "id": "4af666a9-a031-47d0-ba61-09442f84a625",
   "metadata": {},
   "outputs": [
    {
     "name": "stdout",
     "output_type": "stream",
     "text": [
      "<class 'pandas.core.frame.DataFrame'>\n",
      "RangeIndex: 3201 entries, 0 to 3200\n",
      "Data columns (total 7 columns):\n",
      " #   Column   Non-Null Count  Dtype  \n",
      "---  ------   --------------  -----  \n",
      " 0   Date     3201 non-null   object \n",
      " 1   Open     3201 non-null   float64\n",
      " 2   High     3201 non-null   float64\n",
      " 3   Low      3201 non-null   float64\n",
      " 4   Close    3201 non-null   float64\n",
      " 5   Volume   3201 non-null   int64  \n",
      " 6   OpenInt  3201 non-null   int64  \n",
      "dtypes: float64(4), int64(2), object(1)\n",
      "memory usage: 175.2+ KB\n"
     ]
    }
   ],
   "source": [
    "dataset.info()"
   ]
  },
  {
   "cell_type": "code",
   "execution_count": 5,
   "id": "b1057233-11bb-4318-b6ff-9f8dc2371250",
   "metadata": {},
   "outputs": [
    {
     "data": {
      "text/html": [
       "<div>\n",
       "<style scoped>\n",
       "    .dataframe tbody tr th:only-of-type {\n",
       "        vertical-align: middle;\n",
       "    }\n",
       "\n",
       "    .dataframe tbody tr th {\n",
       "        vertical-align: top;\n",
       "    }\n",
       "\n",
       "    .dataframe thead th {\n",
       "        text-align: right;\n",
       "    }\n",
       "</style>\n",
       "<table border=\"1\" class=\"dataframe\">\n",
       "  <thead>\n",
       "    <tr style=\"text-align: right;\">\n",
       "      <th></th>\n",
       "      <th>Open</th>\n",
       "      <th>High</th>\n",
       "      <th>Low</th>\n",
       "      <th>Close</th>\n",
       "      <th>Volume</th>\n",
       "      <th>OpenInt</th>\n",
       "    </tr>\n",
       "  </thead>\n",
       "  <tbody>\n",
       "    <tr>\n",
       "      <th>count</th>\n",
       "      <td>3201.000000</td>\n",
       "      <td>3201.000000</td>\n",
       "      <td>3201.000000</td>\n",
       "      <td>3201.000000</td>\n",
       "      <td>3.201000e+03</td>\n",
       "      <td>3201.0</td>\n",
       "    </tr>\n",
       "    <tr>\n",
       "      <th>mean</th>\n",
       "      <td>94.052340</td>\n",
       "      <td>94.186939</td>\n",
       "      <td>93.886776</td>\n",
       "      <td>94.044129</td>\n",
       "      <td>1.263379e+06</td>\n",
       "      <td>0.0</td>\n",
       "    </tr>\n",
       "    <tr>\n",
       "      <th>std</th>\n",
       "      <td>8.701177</td>\n",
       "      <td>8.673266</td>\n",
       "      <td>8.751381</td>\n",
       "      <td>8.703700</td>\n",
       "      <td>1.162817e+06</td>\n",
       "      <td>0.0</td>\n",
       "    </tr>\n",
       "    <tr>\n",
       "      <th>min</th>\n",
       "      <td>76.312000</td>\n",
       "      <td>77.664000</td>\n",
       "      <td>73.282000</td>\n",
       "      <td>74.626000</td>\n",
       "      <td>3.686600e+04</td>\n",
       "      <td>0.0</td>\n",
       "    </tr>\n",
       "    <tr>\n",
       "      <th>25%</th>\n",
       "      <td>85.688000</td>\n",
       "      <td>85.865000</td>\n",
       "      <td>85.416000</td>\n",
       "      <td>85.661000</td>\n",
       "      <td>5.301920e+05</td>\n",
       "      <td>0.0</td>\n",
       "    </tr>\n",
       "    <tr>\n",
       "      <th>50%</th>\n",
       "      <td>92.135000</td>\n",
       "      <td>92.283000</td>\n",
       "      <td>92.045000</td>\n",
       "      <td>92.135000</td>\n",
       "      <td>8.950500e+05</td>\n",
       "      <td>0.0</td>\n",
       "    </tr>\n",
       "    <tr>\n",
       "      <th>75%</th>\n",
       "      <td>101.690000</td>\n",
       "      <td>101.780000</td>\n",
       "      <td>101.620000</td>\n",
       "      <td>101.710000</td>\n",
       "      <td>1.693460e+06</td>\n",
       "      <td>0.0</td>\n",
       "    </tr>\n",
       "    <tr>\n",
       "      <th>max</th>\n",
       "      <td>110.080000</td>\n",
       "      <td>110.200000</td>\n",
       "      <td>109.970000</td>\n",
       "      <td>110.110000</td>\n",
       "      <td>1.345202e+07</td>\n",
       "      <td>0.0</td>\n",
       "    </tr>\n",
       "  </tbody>\n",
       "</table>\n",
       "</div>"
      ],
      "text/plain": [
       "              Open         High          Low        Close        Volume  \\\n",
       "count  3201.000000  3201.000000  3201.000000  3201.000000  3.201000e+03   \n",
       "mean     94.052340    94.186939    93.886776    94.044129  1.263379e+06   \n",
       "std       8.701177     8.673266     8.751381     8.703700  1.162817e+06   \n",
       "min      76.312000    77.664000    73.282000    74.626000  3.686600e+04   \n",
       "25%      85.688000    85.865000    85.416000    85.661000  5.301920e+05   \n",
       "50%      92.135000    92.283000    92.045000    92.135000  8.950500e+05   \n",
       "75%     101.690000   101.780000   101.620000   101.710000  1.693460e+06   \n",
       "max     110.080000   110.200000   109.970000   110.110000  1.345202e+07   \n",
       "\n",
       "       OpenInt  \n",
       "count   3201.0  \n",
       "mean       0.0  \n",
       "std        0.0  \n",
       "min        0.0  \n",
       "25%        0.0  \n",
       "50%        0.0  \n",
       "75%        0.0  \n",
       "max        0.0  "
      ]
     },
     "execution_count": 5,
     "metadata": {},
     "output_type": "execute_result"
    }
   ],
   "source": [
    "dataset.describe()"
   ]
  },
  {
   "cell_type": "code",
   "execution_count": 6,
   "id": "486b7b41-6734-4521-8d03-5b307020c8cb",
   "metadata": {},
   "outputs": [],
   "source": [
    "dataset.drop(columns=\"OpenInt\",inplace=True)"
   ]
  },
  {
   "cell_type": "code",
   "execution_count": 8,
   "id": "4c051822-6ce3-4e07-ac28-d67890570c1b",
   "metadata": {},
   "outputs": [],
   "source": [
    "#CONVERT DATE INTO DATETIME  FORMAT\n",
    "dataset['Date'] = pd.to_datetime(dataset['Date'])"
   ]
  },
  {
   "cell_type": "code",
   "execution_count": 9,
   "id": "fae33cf1-76ee-4fdd-9247-9ef30d4d30af",
   "metadata": {},
   "outputs": [],
   "source": [
    "dataset = dataset.sort_values(by=\"Date\",ascending=True)"
   ]
  },
  {
   "cell_type": "markdown",
   "id": "cfe4e2fb-6d9c-4000-b44e-9a59fda753f9",
   "metadata": {},
   "source": [
    "## Feature Engineering"
   ]
  },
  {
   "cell_type": "code",
   "execution_count": 10,
   "id": "84f1d406-c587-4b3d-a729-f92a5af2a1c6",
   "metadata": {},
   "outputs": [],
   "source": [
    "labels = []\n",
    "threshold = 0.003\n",
    "for i in range(len(dataset) - 1):\n",
    "    ret = (dataset.iloc[i + 1]['Close'] - dataset.iloc[i]['Close']) / dataset.iloc[i]['Close']\n",
    "    if ret > threshold:\n",
    "        labels.append(1)\n",
    "    else:\n",
    "        labels.append(0)\n",
    "labels.append(None)\n",
    "dataset['Label'] = labels\n",
    "dataset.dropna(subset=['Label'], inplace=True)\n",
    "dataset['Label'] = dataset['Label'].astype(int)\n"
   ]
  },
  {
   "cell_type": "code",
   "execution_count": 11,
   "id": "4ad05812-3bfe-49e5-89ea-d7c321b952ec",
   "metadata": {},
   "outputs": [],
   "source": [
    "#Adding Technical Features 1.Daily return %\n",
    "daily_return = []\n",
    "for i in range(len(dataset)) :\n",
    "    openprice = dataset.iloc[i][\"Open\"]\n",
    "    closeprice = dataset.iloc[i][\"Close\"]\n",
    "    daily_charge = ((closeprice-openprice)/openprice)*100\n",
    "    daily_return.append(daily_charge)\n",
    "dataset[\"DailyReturn\"] = daily_return"
   ]
  },
  {
   "cell_type": "code",
   "execution_count": 12,
   "id": "21b3c69a-7345-453f-944b-2d7d60204513",
   "metadata": {},
   "outputs": [],
   "source": [
    "#Finding the Moving averages\n",
    "dataset['3-Day MA'] = dataset['Close'].rolling(window=3).mean()\n",
    "dataset['5-Day MA'] = dataset['Close'].rolling(window=5).mean()\n",
    "dataset['10-Day MA'] = dataset['Close'].rolling(window=10).mean()"
   ]
  },
  {
   "cell_type": "code",
   "execution_count": 13,
   "id": "ac79c8b4-b46c-41aa-b5f4-b2ba929a934e",
   "metadata": {},
   "outputs": [],
   "source": [
    "close_lag1 = []\n",
    "close_lag2 = []\n",
    "volume_lag = []\n",
    "return_lag1 = []\n",
    "\"\"\"\n",
    "close_lag1 = the previous close price\n",
    "close_lag2 = close_price of two days ago\n",
    "volume_lag = Shows teh trading of the VOlume of the previous day\n",
    "\"\"\"\n",
    "\n",
    "for i in range(len(dataset)):\n",
    "    if i >= 2:\n",
    "        close_lag1.append(dataset['Close'][i-1])\n",
    "        close_lag2.append(dataset['Close'][i-2])\n",
    "        volume_lag.append(dataset['Volume'][i-1])\n",
    "        return_lag1.append(daily_return[i-1])\n",
    "    elif i == 1:\n",
    "        close_lag1.append(dataset['Close'][i-1])\n",
    "        close_lag2.append(None)\n",
    "        volume_lag.append(dataset['Volume'][i-1])\n",
    "        return_lag1.append(daily_return[i-1])\n",
    "    else:\n",
    "        close_lag1.append(None)\n",
    "        close_lag2.append(None)\n",
    "        volume_lag.append(None)\n",
    "        return_lag1.append(None)\n",
    "\n",
    "dataset['Close_lag1'] = close_lag1\n",
    "dataset['Close_lag2'] = close_lag2\n",
    "dataset['volume_lag'] = volume_lag\n",
    "dataset['return_lag1'] = return_lag1"
   ]
  },
  {
   "cell_type": "code",
   "execution_count": 14,
   "id": "5eb3bb8b-0494-43ba-92e7-079ee4aff5f5",
   "metadata": {},
   "outputs": [],
   "source": [
    "#Now removing the rows which are by NAN\n",
    "dataset.dropna(inplace=True)"
   ]
  },
  {
   "cell_type": "code",
   "execution_count": 15,
   "id": "6f8afd2b-d2e1-4f25-a960-199cafca8179",
   "metadata": {},
   "outputs": [
    {
     "data": {
      "text/html": [
       "<div>\n",
       "<style scoped>\n",
       "    .dataframe tbody tr th:only-of-type {\n",
       "        vertical-align: middle;\n",
       "    }\n",
       "\n",
       "    .dataframe tbody tr th {\n",
       "        vertical-align: top;\n",
       "    }\n",
       "\n",
       "    .dataframe thead th {\n",
       "        text-align: right;\n",
       "    }\n",
       "</style>\n",
       "<table border=\"1\" class=\"dataframe\">\n",
       "  <thead>\n",
       "    <tr style=\"text-align: right;\">\n",
       "      <th></th>\n",
       "      <th>Date</th>\n",
       "      <th>Open</th>\n",
       "      <th>High</th>\n",
       "      <th>Low</th>\n",
       "      <th>Close</th>\n",
       "      <th>Volume</th>\n",
       "      <th>Label</th>\n",
       "      <th>DailyReturn</th>\n",
       "      <th>3-Day MA</th>\n",
       "      <th>5-Day MA</th>\n",
       "      <th>10-Day MA</th>\n",
       "      <th>Close_lag1</th>\n",
       "      <th>Close_lag2</th>\n",
       "      <th>volume_lag</th>\n",
       "      <th>return_lag1</th>\n",
       "    </tr>\n",
       "  </thead>\n",
       "  <tbody>\n",
       "    <tr>\n",
       "      <th>9</th>\n",
       "      <td>2005-03-10</td>\n",
       "      <td>85.645</td>\n",
       "      <td>85.645</td>\n",
       "      <td>85.315</td>\n",
       "      <td>85.399</td>\n",
       "      <td>204416</td>\n",
       "      <td>0</td>\n",
       "      <td>-0.287232</td>\n",
       "      <td>85.642000</td>\n",
       "      <td>85.8652</td>\n",
       "      <td>85.9931</td>\n",
       "      <td>85.501</td>\n",
       "      <td>86.026</td>\n",
       "      <td>130686.0</td>\n",
       "      <td>-0.375191</td>\n",
       "    </tr>\n",
       "    <tr>\n",
       "      <th>10</th>\n",
       "      <td>2005-03-11</td>\n",
       "      <td>85.596</td>\n",
       "      <td>85.596</td>\n",
       "      <td>85.256</td>\n",
       "      <td>85.470</td>\n",
       "      <td>103512</td>\n",
       "      <td>0</td>\n",
       "      <td>-0.147203</td>\n",
       "      <td>85.456667</td>\n",
       "      <td>85.7214</td>\n",
       "      <td>85.8885</td>\n",
       "      <td>85.399</td>\n",
       "      <td>85.501</td>\n",
       "      <td>204416.0</td>\n",
       "      <td>-0.287232</td>\n",
       "    </tr>\n",
       "    <tr>\n",
       "      <th>11</th>\n",
       "      <td>2005-03-14</td>\n",
       "      <td>85.390</td>\n",
       "      <td>85.477</td>\n",
       "      <td>85.207</td>\n",
       "      <td>85.435</td>\n",
       "      <td>153491</td>\n",
       "      <td>0</td>\n",
       "      <td>0.052699</td>\n",
       "      <td>85.434667</td>\n",
       "      <td>85.5662</td>\n",
       "      <td>85.8033</td>\n",
       "      <td>85.470</td>\n",
       "      <td>85.399</td>\n",
       "      <td>103512.0</td>\n",
       "      <td>-0.147203</td>\n",
       "    </tr>\n",
       "    <tr>\n",
       "      <th>12</th>\n",
       "      <td>2005-03-15</td>\n",
       "      <td>85.605</td>\n",
       "      <td>85.614</td>\n",
       "      <td>85.306</td>\n",
       "      <td>85.451</td>\n",
       "      <td>127616</td>\n",
       "      <td>0</td>\n",
       "      <td>-0.179896</td>\n",
       "      <td>85.452000</td>\n",
       "      <td>85.4512</td>\n",
       "      <td>85.7499</td>\n",
       "      <td>85.435</td>\n",
       "      <td>85.470</td>\n",
       "      <td>153491.0</td>\n",
       "      <td>0.052699</td>\n",
       "    </tr>\n",
       "    <tr>\n",
       "      <th>13</th>\n",
       "      <td>2005-03-16</td>\n",
       "      <td>85.451</td>\n",
       "      <td>85.679</td>\n",
       "      <td>85.300</td>\n",
       "      <td>85.511</td>\n",
       "      <td>111783</td>\n",
       "      <td>0</td>\n",
       "      <td>0.070216</td>\n",
       "      <td>85.465667</td>\n",
       "      <td>85.4532</td>\n",
       "      <td>85.7136</td>\n",
       "      <td>85.451</td>\n",
       "      <td>85.435</td>\n",
       "      <td>127616.0</td>\n",
       "      <td>-0.179896</td>\n",
       "    </tr>\n",
       "  </tbody>\n",
       "</table>\n",
       "</div>"
      ],
      "text/plain": [
       "         Date    Open    High     Low   Close  Volume  Label  DailyReturn  \\\n",
       "9  2005-03-10  85.645  85.645  85.315  85.399  204416      0    -0.287232   \n",
       "10 2005-03-11  85.596  85.596  85.256  85.470  103512      0    -0.147203   \n",
       "11 2005-03-14  85.390  85.477  85.207  85.435  153491      0     0.052699   \n",
       "12 2005-03-15  85.605  85.614  85.306  85.451  127616      0    -0.179896   \n",
       "13 2005-03-16  85.451  85.679  85.300  85.511  111783      0     0.070216   \n",
       "\n",
       "     3-Day MA  5-Day MA  10-Day MA  Close_lag1  Close_lag2  volume_lag  \\\n",
       "9   85.642000   85.8652    85.9931      85.501      86.026    130686.0   \n",
       "10  85.456667   85.7214    85.8885      85.399      85.501    204416.0   \n",
       "11  85.434667   85.5662    85.8033      85.470      85.399    103512.0   \n",
       "12  85.452000   85.4512    85.7499      85.435      85.470    153491.0   \n",
       "13  85.465667   85.4532    85.7136      85.451      85.435    127616.0   \n",
       "\n",
       "    return_lag1  \n",
       "9     -0.375191  \n",
       "10    -0.287232  \n",
       "11    -0.147203  \n",
       "12     0.052699  \n",
       "13    -0.179896  "
      ]
     },
     "execution_count": 15,
     "metadata": {},
     "output_type": "execute_result"
    }
   ],
   "source": [
    "dataset.head()"
   ]
  },
  {
   "cell_type": "code",
   "execution_count": 16,
   "id": "317f4aa0-0593-44e1-9385-305d6e86eac6",
   "metadata": {},
   "outputs": [
    {
     "data": {
      "text/html": [
       "<div>\n",
       "<style scoped>\n",
       "    .dataframe tbody tr th:only-of-type {\n",
       "        vertical-align: middle;\n",
       "    }\n",
       "\n",
       "    .dataframe tbody tr th {\n",
       "        vertical-align: top;\n",
       "    }\n",
       "\n",
       "    .dataframe thead th {\n",
       "        text-align: right;\n",
       "    }\n",
       "</style>\n",
       "<table border=\"1\" class=\"dataframe\">\n",
       "  <thead>\n",
       "    <tr style=\"text-align: right;\">\n",
       "      <th></th>\n",
       "      <th>index</th>\n",
       "      <th>Date</th>\n",
       "      <th>Open</th>\n",
       "      <th>High</th>\n",
       "      <th>Low</th>\n",
       "      <th>Close</th>\n",
       "      <th>Volume</th>\n",
       "      <th>Label</th>\n",
       "      <th>DailyReturn</th>\n",
       "      <th>3-Day MA</th>\n",
       "      <th>5-Day MA</th>\n",
       "      <th>10-Day MA</th>\n",
       "      <th>Close_lag1</th>\n",
       "      <th>Close_lag2</th>\n",
       "      <th>volume_lag</th>\n",
       "      <th>return_lag1</th>\n",
       "    </tr>\n",
       "  </thead>\n",
       "  <tbody>\n",
       "    <tr>\n",
       "      <th>0</th>\n",
       "      <td>9</td>\n",
       "      <td>2005-03-10</td>\n",
       "      <td>85.645</td>\n",
       "      <td>85.645</td>\n",
       "      <td>85.315</td>\n",
       "      <td>85.399</td>\n",
       "      <td>204416</td>\n",
       "      <td>0</td>\n",
       "      <td>-0.287232</td>\n",
       "      <td>85.642000</td>\n",
       "      <td>85.8652</td>\n",
       "      <td>85.9931</td>\n",
       "      <td>85.501</td>\n",
       "      <td>86.026</td>\n",
       "      <td>130686.0</td>\n",
       "      <td>-0.375191</td>\n",
       "    </tr>\n",
       "    <tr>\n",
       "      <th>1</th>\n",
       "      <td>10</td>\n",
       "      <td>2005-03-11</td>\n",
       "      <td>85.596</td>\n",
       "      <td>85.596</td>\n",
       "      <td>85.256</td>\n",
       "      <td>85.470</td>\n",
       "      <td>103512</td>\n",
       "      <td>0</td>\n",
       "      <td>-0.147203</td>\n",
       "      <td>85.456667</td>\n",
       "      <td>85.7214</td>\n",
       "      <td>85.8885</td>\n",
       "      <td>85.399</td>\n",
       "      <td>85.501</td>\n",
       "      <td>204416.0</td>\n",
       "      <td>-0.287232</td>\n",
       "    </tr>\n",
       "    <tr>\n",
       "      <th>2</th>\n",
       "      <td>11</td>\n",
       "      <td>2005-03-14</td>\n",
       "      <td>85.390</td>\n",
       "      <td>85.477</td>\n",
       "      <td>85.207</td>\n",
       "      <td>85.435</td>\n",
       "      <td>153491</td>\n",
       "      <td>0</td>\n",
       "      <td>0.052699</td>\n",
       "      <td>85.434667</td>\n",
       "      <td>85.5662</td>\n",
       "      <td>85.8033</td>\n",
       "      <td>85.470</td>\n",
       "      <td>85.399</td>\n",
       "      <td>103512.0</td>\n",
       "      <td>-0.147203</td>\n",
       "    </tr>\n",
       "    <tr>\n",
       "      <th>3</th>\n",
       "      <td>12</td>\n",
       "      <td>2005-03-15</td>\n",
       "      <td>85.605</td>\n",
       "      <td>85.614</td>\n",
       "      <td>85.306</td>\n",
       "      <td>85.451</td>\n",
       "      <td>127616</td>\n",
       "      <td>0</td>\n",
       "      <td>-0.179896</td>\n",
       "      <td>85.452000</td>\n",
       "      <td>85.4512</td>\n",
       "      <td>85.7499</td>\n",
       "      <td>85.435</td>\n",
       "      <td>85.470</td>\n",
       "      <td>153491.0</td>\n",
       "      <td>0.052699</td>\n",
       "    </tr>\n",
       "    <tr>\n",
       "      <th>4</th>\n",
       "      <td>13</td>\n",
       "      <td>2005-03-16</td>\n",
       "      <td>85.451</td>\n",
       "      <td>85.679</td>\n",
       "      <td>85.300</td>\n",
       "      <td>85.511</td>\n",
       "      <td>111783</td>\n",
       "      <td>0</td>\n",
       "      <td>0.070216</td>\n",
       "      <td>85.465667</td>\n",
       "      <td>85.4532</td>\n",
       "      <td>85.7136</td>\n",
       "      <td>85.451</td>\n",
       "      <td>85.435</td>\n",
       "      <td>127616.0</td>\n",
       "      <td>-0.179896</td>\n",
       "    </tr>\n",
       "  </tbody>\n",
       "</table>\n",
       "</div>"
      ],
      "text/plain": [
       "   index       Date    Open    High     Low   Close  Volume  Label  \\\n",
       "0      9 2005-03-10  85.645  85.645  85.315  85.399  204416      0   \n",
       "1     10 2005-03-11  85.596  85.596  85.256  85.470  103512      0   \n",
       "2     11 2005-03-14  85.390  85.477  85.207  85.435  153491      0   \n",
       "3     12 2005-03-15  85.605  85.614  85.306  85.451  127616      0   \n",
       "4     13 2005-03-16  85.451  85.679  85.300  85.511  111783      0   \n",
       "\n",
       "   DailyReturn   3-Day MA  5-Day MA  10-Day MA  Close_lag1  Close_lag2  \\\n",
       "0    -0.287232  85.642000   85.8652    85.9931      85.501      86.026   \n",
       "1    -0.147203  85.456667   85.7214    85.8885      85.399      85.501   \n",
       "2     0.052699  85.434667   85.5662    85.8033      85.470      85.399   \n",
       "3    -0.179896  85.452000   85.4512    85.7499      85.435      85.470   \n",
       "4     0.070216  85.465667   85.4532    85.7136      85.451      85.435   \n",
       "\n",
       "   volume_lag  return_lag1  \n",
       "0    130686.0    -0.375191  \n",
       "1    204416.0    -0.287232  \n",
       "2    103512.0    -0.147203  \n",
       "3    153491.0     0.052699  \n",
       "4    127616.0    -0.179896  "
      ]
     },
     "execution_count": 16,
     "metadata": {},
     "output_type": "execute_result"
    }
   ],
   "source": [
    "dataset.reset_index().head()"
   ]
  },
  {
   "cell_type": "code",
   "execution_count": 17,
   "id": "93632997-e13c-4ae4-9670-2ec6b7c8431d",
   "metadata": {},
   "outputs": [
    {
     "data": {
      "text/plain": [
       "Label\n",
       "0    2864\n",
       "1     327\n",
       "Name: count, dtype: int64"
      ]
     },
     "execution_count": 17,
     "metadata": {},
     "output_type": "execute_result"
    }
   ],
   "source": [
    "dataset['Label'].value_counts()"
   ]
  },
  {
   "cell_type": "markdown",
   "id": "06eeff76-c733-4d8d-b6e1-d0ec097ad0e6",
   "metadata": {},
   "source": [
    "## Model Building"
   ]
  },
  {
   "cell_type": "code",
   "execution_count": 18,
   "id": "b6b46aa4-af46-47f7-b5c6-5db131734a7b",
   "metadata": {},
   "outputs": [],
   "source": [
    "from sklearn.model_selection import train_test_split"
   ]
  },
  {
   "cell_type": "code",
   "execution_count": 19,
   "id": "ab21d5e6-db77-47f7-bb4c-a8de6c4ead61",
   "metadata": {},
   "outputs": [],
   "source": [
    "X = dataset.drop(columns=[\"Date\",\"Label\"])\n",
    "y = dataset[\"Label\"]"
   ]
  },
  {
   "cell_type": "code",
   "execution_count": 20,
   "id": "eaa99963-549d-4ff8-9b78-ff88dbba5cfd",
   "metadata": {},
   "outputs": [],
   "source": [
    "X_train,X_test,y_train,y_test = train_test_split(X,y,test_size=0.2,random_state=42)"
   ]
  },
  {
   "cell_type": "code",
   "execution_count": 21,
   "id": "d332fff8-4dff-4c2f-8161-6121d1d9ce39",
   "metadata": {},
   "outputs": [],
   "source": [
    "#Let us go with few models\n",
    "from sklearn.linear_model import LogisticRegression"
   ]
  },
  {
   "cell_type": "code",
   "execution_count": 35,
   "id": "576042b6-d8cc-4642-b81f-77f5e9c76a66",
   "metadata": {},
   "outputs": [],
   "source": [
    "model = LogisticRegression(class_weight='balanced')\n",
    "model.fit(X_train,y_train)\n",
    "y_log_pred = model.predict(X_test)"
   ]
  },
  {
   "cell_type": "code",
   "execution_count": 36,
   "id": "4d8aaa14-c026-473d-a3d2-91ed13f30db4",
   "metadata": {},
   "outputs": [],
   "source": [
    "from sklearn.metrics import accuracy_score,precision_score,recall_score,confusion_matrix,f1_score"
   ]
  },
  {
   "cell_type": "code",
   "execution_count": 37,
   "id": "dac5e9d6-898a-4537-89bc-4de1b69657b6",
   "metadata": {},
   "outputs": [
    {
     "name": "stdout",
     "output_type": "stream",
     "text": [
      "Accuracy Score : 67.92%\n",
      "precision Score : 16.43%\n",
      "Recall Score: 56.45%\n",
      "F1 Score : 25.45%\n",
      "Confusion Matrix : \n",
      "[[399 178]\n",
      " [ 27  35]]\n"
     ]
    }
   ],
   "source": [
    "#For Logistic regression Evaluation\n",
    "print(f\"Accuracy Score : {accuracy_score(y_test,y_log_pred)*100:.2f}%\") #Which measures the percentage of correctly predicted instances.\n",
    "print(f\"precision Score : {precision_score(y_test,y_log_pred)*100:.2f}%\")\n",
    "print(f\"Recall Score: {recall_score(y_test,y_log_pred)*100:.2f}%\")\n",
    "print(f\"F1 Score : {f1_score(y_test,y_log_pred)*100:.2f}%\")\n",
    "print(f\"Confusion Matrix : \\n{confusion_matrix(y_test,y_log_pred)}\")"
   ]
  },
  {
   "cell_type": "code",
   "execution_count": 38,
   "id": "daa555ad-edd5-42cb-af32-c541f020aa4b",
   "metadata": {},
   "outputs": [],
   "source": [
    "#Data Visuilazation\n",
    "import seaborn as sns\n",
    "import matplotlib.pyplot as plt"
   ]
  },
  {
   "cell_type": "code",
   "execution_count": 39,
   "id": "1619eac6-2632-4cd2-a026-35520ef7ddf8",
   "metadata": {},
   "outputs": [
    {
     "data": {
      "image/png": "[encoded data removed]",
      "text/plain": [
       "<Figure size 600x400 with 1 Axes>"
      ]
     },
     "metadata": {},
     "output_type": "display_data"
    }
   ],
   "source": [
    "plt.figure(figsize=(6,4))\n",
    "plt.plot(dataset['Date'], dataset['Close'])\n",
    "plt.title('Closing Price Over Time')\n",
    "plt.xlabel('Date')\n",
    "plt.ylabel('Close Price')\n",
    "plt.grid(True)\n",
    "plt.show()"
   ]
  },
  {
   "cell_type": "code",
   "execution_count": 40,
   "id": "61887b47-f97e-4002-8050-f5b40d4008d2",
   "metadata": {},
   "outputs": [
    {
     "data": {
      "image/png": "[encoded data removed]",
      "text/plain": [
       "<Figure size 1200x600 with 1 Axes>"
      ]
     },
     "metadata": {},
     "output_type": "display_data"
    }
   ],
   "source": [
    "plt.figure(figsize=(12,6))\n",
    "plt.plot(dataset['Date'], dataset['Close'], label='Close')\n",
    "plt.plot(dataset['Date'], dataset['3-Day MA'], label='3-Day MA')\n",
    "plt.plot(dataset['Date'], dataset['5-Day MA'], label='5-Day MA')\n",
    "plt.plot(dataset['Date'], dataset['10-Day MA'], label='10-Day MA')\n",
    "plt.legend()\n",
    "plt.title('Closing Price and Moving Averages')\n",
    "plt.show()"
   ]
  },
  {
   "cell_type": "code",
   "execution_count": 41,
   "id": "e9e5b33e-5c3d-4bec-9f33-e8b0f06234d3",
   "metadata": {},
   "outputs": [],
   "source": [
    "import pickle\n",
    "with open('model.pkl', 'wb') as file:\n",
    "    pickle.dump(model, file)"
   ]
  }
 ],
 "metadata": {
  "kernelspec": {
   "display_name": "Python 3 (ipykernel)",
   "language": "python",
   "name": "python3"
  },
  "language_info": {
   "codemirror_mode": {
    "name": "ipython",
    "version": 3
   },
   "file_extension": ".py",
   "mimetype": "text/x-python",
   "name": "python",
   "nbconvert_exporter": "python",
   "pygments_lexer": "ipython3",
   "version": "3.12.7"
  }
 },
 "nbformat": 4,
 "nbformat_minor": 5
}
